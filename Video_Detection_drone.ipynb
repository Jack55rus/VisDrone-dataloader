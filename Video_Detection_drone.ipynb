{
 "cells": [
  {
   "cell_type": "code",
   "execution_count": 1,
   "metadata": {},
   "outputs": [
    {
     "name": "stdout",
     "output_type": "stream",
     "text": [
      "True\n"
     ]
    }
   ],
   "source": [
    "from __future__ import print_function\n",
    "import cv2\n",
    "import numpy as np\n",
    "import torch\n",
    "import torch.nn as nn\n",
    "import torch.backends.cudnn as cudnn\n",
    "from torch.autograd import Variable\n",
    "from data import VISDRONEDetection, VISDRONEAnnotationTransform, VISDRONE_ROOT, BaseTransform\n",
    "from data import VISDRONE_CLASSES as labelmap\n",
    "import torch.utils.data as data\n",
    "from models.refinedet import build_refinedet\n",
    "import warnings\n",
    "warnings.filterwarnings(\"ignore\")\n",
    "import sys\n",
    "import os\n",
    "import time\n",
    "import argparse\n",
    "import numpy as np\n",
    "import pickle\n",
    "%matplotlib inline\n",
    "from matplotlib import pyplot as plt\n",
    "import time\n",
    "if torch.cuda.is_available():\n",
    "    torch.set_default_tensor_type('torch.cuda.FloatTensor')\n",
    "print(torch.cuda.is_available())"
   ]
  },
  {
   "cell_type": "code",
   "execution_count": 2,
   "metadata": {},
   "outputs": [
    {
     "name": "stdout",
     "output_type": "stream",
     "text": [
      "passed # classes =  13\n",
      "size =  512\n",
      "Entered Prior box class\n"
     ]
    }
   ],
   "source": [
    "trained_model = './weights/RefineDet512_VISDRONE_final.pth'\n",
    "net = build_refinedet('test', 512, 13)    # initialize SSD\n",
    "net.load_state_dict(torch.load(trained_model))\n",
    "net.eval()\n",
    "net = net.cuda()\n",
    "cudnn.benchmark = True"
   ]
  },
  {
   "cell_type": "code",
   "execution_count": 3,
   "metadata": {},
   "outputs": [],
   "source": [
    "def imTotensor(im, size): # conver an image to a tensor\n",
    "    x = cv2.resize(im, (size, size)).astype(np.float32)\n",
    "    x -= (104.0, 117.0, 123.0)\n",
    "    x = x.astype(np.float32)\n",
    "    x = x[:, :, ::-1].copy()\n",
    "    x = torch.from_numpy(x).permute(2, 0, 1).cuda() # cuda()\n",
    "    print(x.type())\n",
    "    return x"
   ]
  },
  {
   "cell_type": "code",
   "execution_count": 4,
   "metadata": {},
   "outputs": [],
   "source": [
    "def StackTens(x): # transform an array of 3d tensors to a single 4d tensor along 0th dimension   \n",
    "    xx = torch.stack(x, dim=0)\n",
    "    if torch.cuda.is_available():\n",
    "        xx = xx.cuda()\n",
    "    return xx"
   ]
  },
  {
   "cell_type": "code",
   "execution_count": 5,
   "metadata": {},
   "outputs": [],
   "source": [
    "def TensToNet(net, xx): # pass a 4d tensor to the net\n",
    "    y = net(xx)\n",
    "    return y"
   ]
  },
  {
   "cell_type": "code",
   "execution_count": 6,
   "metadata": {},
   "outputs": [],
   "source": [
    "def putDets(detections, im):\n",
    "    top_k=10\n",
    "    colors = plt.cm.hsv(np.linspace(0, 1, 13)).tolist()\n",
    "    font = cv2.FONT_HERSHEY_SIMPLEX \n",
    "#     scale = torch.Tensor(im.shape[1::-1]).repeat(2)\n",
    "    for k in range(detections.size(0)):\n",
    "        scale = torch.Tensor(im[k].shape[1::-1]).repeat(2)\n",
    "        for i in range(detections.size(1)):\n",
    "            j = 0\n",
    "            while detections[k,i,j,0] >= 0.80:\n",
    "                score = detections[k,i,j,0]\n",
    "                label_name = labelmap[i-1]\n",
    "                display_txt = '%s: %.2f'%(label_name, score)\n",
    "                pt = (detections[k,i,j,1:]*scale).cpu().numpy()\n",
    "                coords = (pt[0], pt[1]), pt[2]-pt[0]+1, pt[3]-pt[1]+1\n",
    "                color = colors[i]\n",
    "                cv2.rectangle(im[k], (pt[0], pt[1]), (pt[2], pt[3]), color, 1)\n",
    "                cv2.putText(im[k], display_txt, (pt[0], pt[1]), font, 1, color, 1)\n",
    "                j+=1\n",
    "    return im"
   ]
  },
  {
   "cell_type": "code",
   "execution_count": 7,
   "metadata": {},
   "outputs": [],
   "source": [
    "def putDets1(detections, im):\n",
    "    top_k=10\n",
    "    print(detections.type())\n",
    "    colors = plt.cm.hsv(np.linspace(0, 1, 13)).tolist()\n",
    "    font = cv2.FONT_HERSHEY_SIMPLEX \n",
    "    scale = torch.Tensor(im.shape[1::-1]).repeat(2)\n",
    "    for i in range(detections.size(1)):\n",
    "        j = 0\n",
    "        while detections[0,i,j,0] >= 0.60:\n",
    "            score = detections[0,i,j,0]\n",
    "            label_name = labelmap[i-1]\n",
    "            display_txt = '%s: %.2f'%(label_name, score)\n",
    "            pt = (detections[0,i,j,1:]*scale).cpu().numpy()\n",
    "            coords = (pt[0], pt[1]), pt[2]-pt[0]+1, pt[3]-pt[1]+1\n",
    "            color = colors[i]\n",
    "            cv2.rectangle(im, (pt[0], pt[1]), (pt[2], pt[3]), color, 1)\n",
    "            cv2.putText(im, display_txt, (pt[0], pt[1]), font, 1, color, 1)\n",
    "            j+=1\n",
    "    return im"
   ]
  },
  {
   "cell_type": "code",
   "execution_count": 8,
   "metadata": {
    "scrolled": true
   },
   "outputs": [
    {
     "name": "stdout",
     "output_type": "stream",
     "text": [
      "Frame count: 2889\n",
      "torch.cuda.FloatTensor\n",
      "time spent on NMS:  0.20909547805786133\n",
      "torch.cuda.FloatTensor\n",
      "overall time per frame:  2.7205605506896973\n",
      "torch.cuda.FloatTensor\n",
      "time spent on NMS:  0.23221969604492188\n",
      "torch.cuda.FloatTensor\n",
      "overall time per frame:  0.29610514640808105\n",
      "torch.cuda.FloatTensor\n",
      "time spent on NMS:  0.21880578994750977\n",
      "torch.cuda.FloatTensor\n",
      "overall time per frame:  0.26031923294067383\n",
      "torch.cuda.FloatTensor\n",
      "time spent on NMS:  0.2071218490600586\n",
      "torch.cuda.FloatTensor\n",
      "overall time per frame:  0.2483668327331543\n",
      "torch.cuda.FloatTensor\n",
      "time spent on NMS:  0.19713401794433594\n",
      "torch.cuda.FloatTensor\n",
      "overall time per frame:  0.24207735061645508\n",
      "torch.cuda.FloatTensor\n",
      "time spent on NMS:  0.20743536949157715\n",
      "torch.cuda.FloatTensor\n",
      "overall time per frame:  0.24811577796936035\n",
      "torch.cuda.FloatTensor\n",
      "time spent on NMS:  0.20186257362365723\n",
      "torch.cuda.FloatTensor\n",
      "overall time per frame:  0.24309134483337402\n",
      "torch.cuda.FloatTensor\n",
      "time spent on NMS:  0.2137002944946289\n",
      "torch.cuda.FloatTensor\n",
      "overall time per frame:  0.2550222873687744\n",
      "torch.cuda.FloatTensor\n",
      "time spent on NMS:  0.20219993591308594\n",
      "torch.cuda.FloatTensor\n",
      "overall time per frame:  0.24713993072509766\n",
      "torch.cuda.FloatTensor\n",
      "time spent on NMS:  0.1933150291442871\n",
      "torch.cuda.FloatTensor\n",
      "overall time per frame:  0.2344655990600586\n",
      "torch.cuda.FloatTensor\n",
      "time spent on NMS:  0.20594406127929688\n",
      "torch.cuda.FloatTensor\n",
      "overall time per frame:  0.24940037727355957\n",
      "torch.cuda.FloatTensor\n",
      "time spent on NMS:  0.1995246410369873\n",
      "torch.cuda.FloatTensor\n",
      "overall time per frame:  0.24512887001037598\n",
      "torch.cuda.FloatTensor\n",
      "time spent on NMS:  0.2058391571044922\n",
      "torch.cuda.FloatTensor\n",
      "overall time per frame:  0.24938631057739258\n",
      "torch.cuda.FloatTensor\n",
      "time spent on NMS:  0.19425106048583984\n",
      "torch.cuda.FloatTensor\n",
      "overall time per frame:  0.24060559272766113\n",
      "torch.cuda.FloatTensor\n",
      "time spent on NMS:  0.20407748222351074\n",
      "torch.cuda.FloatTensor\n",
      "overall time per frame:  0.24736881256103516\n",
      "torch.cuda.FloatTensor\n",
      "time spent on NMS:  0.19789910316467285\n",
      "torch.cuda.FloatTensor\n",
      "overall time per frame:  0.24022817611694336\n",
      "torch.cuda.FloatTensor\n",
      "time spent on NMS:  0.20067262649536133\n",
      "torch.cuda.FloatTensor\n",
      "overall time per frame:  0.24370074272155762\n",
      "torch.cuda.FloatTensor\n",
      "time spent on NMS:  0.21220755577087402\n",
      "torch.cuda.FloatTensor\n",
      "overall time per frame:  0.25879645347595215\n",
      "torch.cuda.FloatTensor\n",
      "time spent on NMS:  0.2115187644958496\n",
      "torch.cuda.FloatTensor\n",
      "overall time per frame:  0.2541656494140625\n",
      "torch.cuda.FloatTensor\n",
      "time spent on NMS:  0.1986217498779297\n",
      "torch.cuda.FloatTensor\n",
      "overall time per frame:  0.24124503135681152\n"
     ]
    }
   ],
   "source": [
    "cap = cv2.VideoCapture('drone_360.mp4')\n",
    "frame_count = int(cap.get(cv2.CAP_PROP_FRAME_COUNT))\n",
    "print('Frame count:', frame_count)\n",
    "cap.set(cv2.CAP_PROP_POS_FRAMES, 1000) # vid.mp4 - 4470 drone_360 - 1000\n",
    "if (cap.isOpened() == False):\n",
    "    print('error')\n",
    "i = 0\n",
    "while(cap.isOpened()):\n",
    "    ret, frame = cap.read()\n",
    "    i += 1\n",
    "    if ret == True:\n",
    "        start = time.time()\n",
    "        x = imTotensor(frame, 512)\n",
    "        xx = torch.unsqueeze(x, 0)\n",
    "#         start = time.time()\n",
    "        y = net(xx)\n",
    "#         end = time.time()\n",
    "        det_im = putDets1(y.data, frame)\n",
    "        cv2.imshow('det', det_im)\n",
    "        end = time.time()\n",
    "#         end = time.time()\n",
    "        print('overall time per frame: ', end-start)\n",
    "        if cv2.waitKey(25) & 0xFF == ord('q'):\n",
    "            break\n",
    "    else:\n",
    "        break\n",
    "cap.release()\n",
    "cv2.destroyAllWindows()"
   ]
  },
  {
   "cell_type": "code",
   "execution_count": null,
   "metadata": {},
   "outputs": [],
   "source": []
  }
 ],
 "metadata": {
  "kernelspec": {
   "display_name": "Python 3",
   "language": "python",
   "name": "python3"
  },
  "language_info": {
   "codemirror_mode": {
    "name": "ipython",
    "version": 3
   },
   "file_extension": ".py",
   "mimetype": "text/x-python",
   "name": "python",
   "nbconvert_exporter": "python",
   "pygments_lexer": "ipython3",
   "version": "3.6.8"
  }
 },
 "nbformat": 4,
 "nbformat_minor": 2
}
